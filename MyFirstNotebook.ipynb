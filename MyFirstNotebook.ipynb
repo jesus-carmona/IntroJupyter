{
 "cells": [
  {
   "cell_type": "code",
   "execution_count": null,
   "id": "92c49264",
   "metadata": {},
   "outputs": [],
   "source": [
    "print(\"Hello World from Jupyter Notebooks\")"
   ]
  },
  {
   "cell_type": "code",
   "execution_count": null,
   "id": "2862fbc4",
   "metadata": {},
   "outputs": [],
   "source": [
    "import time\n",
    "time.sleep(4)"
   ]
  },
  {
   "cell_type": "code",
   "execution_count": null,
   "id": "ea4dc8e1",
   "metadata": {},
   "outputs": [],
   "source": [
    "def say_hello(recipient):\n",
    "    return 'Hello, {}!'.format(recipient)\n"
   ]
  },
  {
   "cell_type": "code",
   "execution_count": null,
   "id": "81f0f622",
   "metadata": {},
   "outputs": [],
   "source": [
    "say_hello('Mary')"
   ]
  },
  {
   "cell_type": "code",
   "execution_count": null,
   "id": "da31cc96",
   "metadata": {},
   "outputs": [],
   "source": [
    "num1 = 10\n",
    "num2 = 5"
   ]
  },
  {
   "cell_type": "code",
   "execution_count": null,
   "id": "4e81cf88",
   "metadata": {},
   "outputs": [],
   "source": [
    "a=num1 - num2"
   ]
  },
  {
   "cell_type": "code",
   "execution_count": null,
   "id": "6337b2c5",
   "metadata": {},
   "outputs": [],
   "source": [
    "print(a)"
   ]
  },
  {
   "cell_type": "code",
   "execution_count": null,
   "id": "20c26e52",
   "metadata": {},
   "outputs": [],
   "source": [
    "# this will say hello\n",
    "say_hello(\"ney\")"
   ]
  },
  {
   "cell_type": "markdown",
   "id": "435ec384",
   "metadata": {},
   "source": [
    "# Heading 1\n",
    "## Heading 2\n",
    "**this is bold** this __text is also bold__ \n",
    "*this text is italic*  this _text is also italic_\n",
    "* item1\n",
    "* item2\n",
    "* item3 *italic*\n",
    "* **item 3 is bold**\n",
    "\n",
    "1. Item 1 in numbers\n",
    "2. Item 2 in numbers\n"
   ]
  },
  {
   "cell_type": "markdown",
   "id": "664cffff",
   "metadata": {},
   "source": [
    "[this is a hyperlink](http://www.tlu.edu)"
   ]
  },
  {
   "cell_type": "code",
   "execution_count": null,
   "id": "02b4d3da",
   "metadata": {},
   "outputs": [],
   "source": [
    "import numpy as np\n",
    "def square(x):\n",
    "    return x * x"
   ]
  },
  {
   "cell_type": "code",
   "execution_count": null,
   "id": "dc56f468",
   "metadata": {},
   "outputs": [],
   "source": [
    "x = np.random.randint(1,10)\n",
    "y = square(x)\n",
    "print('%d squared is %d' % (x,y))"
   ]
  },
  {
   "cell_type": "code",
   "execution_count": null,
   "id": "f463115e",
   "metadata": {},
   "outputs": [],
   "source": []
  }
 ],
 "metadata": {
  "kernelspec": {
   "display_name": "Python 3",
   "language": "python",
   "name": "python3"
  },
  "language_info": {
   "codemirror_mode": {
    "name": "ipython",
    "version": 3
   },
   "file_extension": ".py",
   "mimetype": "text/x-python",
   "name": "python",
   "nbconvert_exporter": "python",
   "pygments_lexer": "ipython3",
   "version": "3.8.8"
  }
 },
 "nbformat": 4,
 "nbformat_minor": 5
}
