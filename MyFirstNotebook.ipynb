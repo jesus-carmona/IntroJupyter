{
 "cells": [
  {
   "cell_type": "code",
   "execution_count": 16,
   "id": "d2e7ffdd",
   "metadata": {},
   "outputs": [
    {
     "name": "stdout",
     "output_type": "stream",
     "text": [
      "Hello World from Jupyter Notebooks\n"
     ]
    }
   ],
   "source": [
    "print(\"Hello World from Jupyter Notebooks\")"
   ]
  },
  {
   "cell_type": "code",
   "execution_count": 17,
   "id": "48df8e19",
   "metadata": {},
   "outputs": [],
   "source": [
    "import time\n",
    "time.sleep(4)"
   ]
  },
  {
   "cell_type": "code",
   "execution_count": 18,
   "id": "fef540f3",
   "metadata": {},
   "outputs": [],
   "source": [
    "def say_hello(recipient):\n",
    "    return 'Hello, {}!'.format(recipient)\n"
   ]
  },
  {
   "cell_type": "code",
   "execution_count": 19,
   "id": "61c15e56",
   "metadata": {},
   "outputs": [
    {
     "data": {
      "text/plain": [
       "'Hello, Mary!'"
      ]
     },
     "execution_count": 19,
     "metadata": {},
     "output_type": "execute_result"
    }
   ],
   "source": [
    "say_hello('Mary')"
   ]
  },
  {
   "cell_type": "code",
   "execution_count": 20,
   "id": "f844d630",
   "metadata": {},
   "outputs": [],
   "source": [
    "num1 = 10\n",
    "num2 = 5"
   ]
  },
  {
   "cell_type": "code",
   "execution_count": 21,
   "id": "638915a0",
   "metadata": {},
   "outputs": [],
   "source": [
    "a=num1 - num2"
   ]
  },
  {
   "cell_type": "code",
   "execution_count": 22,
   "id": "7d8c294d",
   "metadata": {},
   "outputs": [
    {
     "name": "stdout",
     "output_type": "stream",
     "text": [
      "5\n"
     ]
    }
   ],
   "source": [
    "print(a)"
   ]
  },
  {
   "cell_type": "code",
   "execution_count": 23,
   "id": "e20f4a51",
   "metadata": {},
   "outputs": [
    {
     "data": {
      "text/plain": [
       "'Hello, ney!'"
      ]
     },
     "execution_count": 23,
     "metadata": {},
     "output_type": "execute_result"
    }
   ],
   "source": [
    "# this will say hello\n",
    "say_hello(\"ney\")"
   ]
  },
  {
   "cell_type": "markdown",
   "id": "dcb04510",
   "metadata": {},
   "source": [
    "# Heading 1\n",
    "## Heading 2\n",
    "**this is bold** this __text is also bold__ \n",
    "*this text is italic*  this _text is also italic_\n",
    "* item1\n",
    "* item2\n",
    "* item3 *italic*\n",
    "* **item 3 is bold**\n",
    "\n",
    "1. Item 1 in numbers\n",
    "2. Item 2 in numbers\n"
   ]
  },
  {
   "cell_type": "markdown",
   "id": "1cfcf76e",
   "metadata": {},
   "source": [
    "[this is a hyperlink](http://www.tlu.edu)"
   ]
  },
  {
   "cell_type": "code",
   "execution_count": 24,
   "id": "976c250b",
   "metadata": {},
   "outputs": [],
   "source": [
    "import numpy as np\n",
    "def square(x):\n",
    "    return x * x"
   ]
  },
  {
   "cell_type": "code",
   "execution_count": 25,
   "id": "d8d4030f",
   "metadata": {},
   "outputs": [
    {
     "name": "stdout",
     "output_type": "stream",
     "text": [
      "3 squared is 9\n"
     ]
    }
   ],
   "source": [
    "x = np.random.randint(1,10)\n",
    "y = square(x)\n",
    "print('%d squared is %d' % (x,y))"
   ]
  },
  {
   "cell_type": "code",
   "execution_count": null,
   "id": "58e003fc",
   "metadata": {},
   "outputs": [],
   "source": []
  }
 ],
 "metadata": {
  "kernelspec": {
   "display_name": "Python 3",
   "language": "python",
   "name": "python3"
  },
  "language_info": {
   "codemirror_mode": {
    "name": "ipython",
    "version": 3
   },
   "file_extension": ".py",
   "mimetype": "text/x-python",
   "name": "python",
   "nbconvert_exporter": "python",
   "pygments_lexer": "ipython3",
   "version": "3.8.8"
  }
 },
 "nbformat": 4,
 "nbformat_minor": 5
}
